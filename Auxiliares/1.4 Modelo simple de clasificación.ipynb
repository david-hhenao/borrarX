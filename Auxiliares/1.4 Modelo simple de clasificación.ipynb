{
 "cells": [
  {
   "cell_type": "markdown",
   "metadata": {},
   "source": [
    "# Modelo no supervisado de clasificación de texto\n",
    "\n",
    "## Introducción\n",
    "\n",
    "En este notebook se presenta un modelo no supervisado de clasificación de texto. El modelo se basa en el uso de embeddings de palabras y clustering. Se utiliza el algoritmo de clustering KMeans para agrupar los textos en clusters. \n",
    "\n"
   ]
  },
  {
   "cell_type": "code",
   "execution_count": 5,
   "metadata": {},
   "outputs": [
    {
     "name": "stderr",
     "output_type": "stream",
     "text": [
      "[nltk_data] Downloading package stopwords to /home/sda/nltk_data...\n",
      "[nltk_data]   Package stopwords is already up-to-date!\n",
      "[nltk_data] Downloading package punkt to /home/sda/nltk_data...\n",
      "[nltk_data]   Package punkt is already up-to-date!\n"
     ]
    }
   ],
   "source": [
    "### Librerias necesarias Doc2Vec\n",
    "\n",
    "import gensim\n",
    "from gensim.models import Doc2Vec\n",
    "from gensim.models.doc2vec import TaggedDocument\n",
    "\n",
    "### Librerias necesarias para el preprocesamiento de texto\n",
    "import nltk\n",
    "from nltk.corpus import stopwords\n",
    "from nltk.tokenize import word_tokenize\n",
    "from nltk.stem import PorterStemmer\n",
    "\n",
    "### Descargar stopwords\n",
    "nltk.download('stopwords')\n",
    "nltk.download('punkt')\n",
    "\n",
    "\n",
    "### Otras librerias necesarias\n",
    "import numpy as np\n",
    "import pandas as pd\n",
    "import re\n",
    "import os"
   ]
  },
  {
   "cell_type": "markdown",
   "metadata": {},
   "source": [
    "### 1.1 Modelo Doc2Vec\n",
    "\n",
    "El modelo Doc2Vec es una extensión del modelo Word2Vec que agrega un vector adicional para cada documento en el corpus. Este vector adicional se entrena junto con los vectores de palabras y se utiliza para representar el contenido de un documento en un espacio vectorial. Esto permite comparar documentos y encontrar similitudes entre ellos. En este caso ocurre lo siguiente:\n",
    "\n",
    "#### ¿Cómo funciona Doc2Vec?\n",
    "\n",
    "Doc2Vec tiene dos enfoques principales:\n",
    "\n",
    "1. **PV-DM (Distributed Memory):** Este modelo predice una palabra en el documento usando el contexto de palabras a su alrededor y un vector que representa al documento completo. En otras palabras:\n",
    "   - Se toma un documento y se le asigna un vector único (el vector del documento).\n",
    "   - Luego, junto con las palabras cercanas, este vector se usa para predecir una palabra en el documento.\n",
    "   - Al entrenar el modelo, este vector se va ajustando para que capture mejor el significado del documento.\n",
    "\n",
    "2. **PV-DBOW (Distributed Bag of Words):** Aquí se usa solo el vector del documento para predecir palabras al azar dentro del documento, sin tener en cuenta el contexto de palabras. Es más rápido, pero menos preciso.\n",
    "\n",
    "En resumen, Doc2Vec es un modelo que entrena vectores para palabras y documentos al mismo tiempo. Estos vectores pueden ser usados luego para comparar documentos, encontrar similitudes entre ellos, o incluso para clasificarlos.\n",
    "\n",
    "![Proceso doc2vec](../../Datos/Imágenes/doc2vec.png)\n"
   ]
  },
  {
   "cell_type": "markdown",
   "metadata": {},
   "source": [
    "## 2. Cargar el texto\n",
    "\n",
    "El dataset \"es_tweets_laboral\" de la colección \"somosnlp-hackathon-2022\" en Hugging Face está diseñado específicamente para el análisis de texto relacionado con temas laborales en español. Este dataset contiene tuits que abordan temas laborales, y es ideal para tareas de clasificación de texto, análisis de sentimientos, y otras aplicaciones de procesamiento de lenguaje natural (NLP) enfocadas en el ámbito laboral.\n",
    "\n",
    "**Características del Dataset:**\n",
    "- *Contenido*: Incluye tuits en español relacionados con temas laborales, como empleo, condiciones de trabajo, y derechos laborales.\n",
    "- *Etiquetas*: Los tuits pueden estar etiquetados según el tema o el sentimiento, lo que facilita su uso en tareas de clasificación supervisada.\n",
    "- *Aplicaciones*: Este dataset es útil para construir modelos que analicen la percepción de los usuarios sobre temas laborales, detectar tendencias en el mercado laboral, o identificar problemas comunes en el ámbito laboral.\n",
    "\n",
    "El dataset es parte de un esfuerzo colaborativo durante el Hackathon de SomosNLP en 2022, que busca fomentar el desarrollo de tecnologías de procesamiento de lenguaje natural en español.\n",
    "\n"
   ]
  },
  {
   "cell_type": "code",
   "execution_count": 6,
   "metadata": {},
   "outputs": [
    {
     "name": "stdout",
     "output_type": "stream",
     "text": [
      "DatasetDict({\n",
      "    train: Dataset({\n",
      "        features: ['text', 'intent', 'entities'],\n",
      "        num_rows: 184\n",
      "    })\n",
      "    test: Dataset({\n",
      "        features: ['text', 'intent', 'entities'],\n",
      "        num_rows: 47\n",
      "    })\n",
      "})\n"
     ]
    }
   ],
   "source": [
    "### Carga dataset desde huggingface\n",
    "\n",
    "from datasets import load_dataset\n",
    "import tqdm as notebook_tqdm\n",
    "\n",
    "# Cargando el dataset \"es_tweets_laboral\" desde Hugging Face\n",
    "dataset = load_dataset(\"somosnlp-hackathon-2022/es_tweets_laboral\")\n",
    "\n",
    "# Explorando el contenido del dataset\n",
    "print(dataset)\n"
   ]
  },
  {
   "cell_type": "code",
   "execution_count": 7,
   "metadata": {},
   "outputs": [
    {
     "name": "stdout",
     "output_type": "stream",
     "text": [
      "Shape of train data:  (184, 3)\n",
      "Shape of test data:  (47, 3)\n"
     ]
    },
    {
     "data": {
      "text/html": [
       "<div>\n",
       "<style scoped>\n",
       "    .dataframe tbody tr th:only-of-type {\n",
       "        vertical-align: middle;\n",
       "    }\n",
       "\n",
       "    .dataframe tbody tr th {\n",
       "        vertical-align: top;\n",
       "    }\n",
       "\n",
       "    .dataframe thead th {\n",
       "        text-align: right;\n",
       "    }\n",
       "</style>\n",
       "<table border=\"1\" class=\"dataframe\">\n",
       "  <thead>\n",
       "    <tr style=\"text-align: right;\">\n",
       "      <th></th>\n",
       "      <th>text</th>\n",
       "      <th>intent</th>\n",
       "      <th>entities</th>\n",
       "    </tr>\n",
       "  </thead>\n",
       "  <tbody>\n",
       "    <tr>\n",
       "      <th>0</th>\n",
       "      <td>ni siquiera decir \"palabras sucias\" te hace me...</td>\n",
       "      <td>abuso_autoridad</td>\n",
       "      <td>[{'value': 'mal jefe,', 'entity': 'denuncia'}]</td>\n",
       "    </tr>\n",
       "    <tr>\n",
       "      <th>1</th>\n",
       "      <td>un amigo de mi hermana le comentó, dudo mucho ...</td>\n",
       "      <td>salario_precario</td>\n",
       "      <td>[{'value': 'nos maltratan con el salario', 'en...</td>\n",
       "    </tr>\n",
       "    <tr>\n",
       "      <th>2</th>\n",
       "      <td>respecto a los salarios: todos merecemos un sa...</td>\n",
       "      <td>salario_precario</td>\n",
       "      <td>[{'value': 'salario que nos permita vivir dign...</td>\n",
       "    </tr>\n",
       "    <tr>\n",
       "      <th>3</th>\n",
       "      <td>@FOVISSSTEmx @fovissste Gracias por su atenció...</td>\n",
       "      <td>derechos_laborales</td>\n",
       "      <td>[{'value': 'no es un esquema que favorezca al ...</td>\n",
       "    </tr>\n",
       "    <tr>\n",
       "      <th>4</th>\n",
       "      <td>docentes venezolanos, perciben salarios insufi...</td>\n",
       "      <td>salario_precario</td>\n",
       "      <td>[{'value': 'perciben salarios insuficientes', ...</td>\n",
       "    </tr>\n",
       "  </tbody>\n",
       "</table>\n",
       "</div>"
      ],
      "text/plain": [
       "                                                text              intent  \\\n",
       "0  ni siquiera decir \"palabras sucias\" te hace me...     abuso_autoridad   \n",
       "1  un amigo de mi hermana le comentó, dudo mucho ...    salario_precario   \n",
       "2  respecto a los salarios: todos merecemos un sa...    salario_precario   \n",
       "3  @FOVISSSTEmx @fovissste Gracias por su atenció...  derechos_laborales   \n",
       "4  docentes venezolanos, perciben salarios insufi...    salario_precario   \n",
       "\n",
       "                                            entities  \n",
       "0     [{'value': 'mal jefe,', 'entity': 'denuncia'}]  \n",
       "1  [{'value': 'nos maltratan con el salario', 'en...  \n",
       "2  [{'value': 'salario que nos permita vivir dign...  \n",
       "3  [{'value': 'no es un esquema que favorezca al ...  \n",
       "4  [{'value': 'perciben salarios insuficientes', ...  "
      ]
     },
     "execution_count": 7,
     "metadata": {},
     "output_type": "execute_result"
    }
   ],
   "source": [
    "train = dataset['train']\n",
    "test = dataset['test']\n",
    "\n",
    "# Explorando el contenido de los datos de entrenamiento\n",
    "\n",
    "train_df = train.to_pandas()\n",
    "test_df = test.to_pandas()\n",
    "print(\"Shape of train data: \", train_df.shape)\n",
    "print(\"Shape of test data: \", test_df.shape)\n",
    "\n",
    "train_df.head()"
   ]
  },
  {
   "cell_type": "code",
   "execution_count": 8,
   "metadata": {},
   "outputs": [
    {
     "data": {
      "text/html": [
       "<div>\n",
       "<style scoped>\n",
       "    .dataframe tbody tr th:only-of-type {\n",
       "        vertical-align: middle;\n",
       "    }\n",
       "\n",
       "    .dataframe tbody tr th {\n",
       "        vertical-align: top;\n",
       "    }\n",
       "\n",
       "    .dataframe thead th {\n",
       "        text-align: right;\n",
       "    }\n",
       "</style>\n",
       "<table border=\"1\" class=\"dataframe\">\n",
       "  <thead>\n",
       "    <tr style=\"text-align: right;\">\n",
       "      <th></th>\n",
       "      <th>text</th>\n",
       "      <th>intent</th>\n",
       "      <th>entities</th>\n",
       "    </tr>\n",
       "  </thead>\n",
       "  <tbody>\n",
       "    <tr>\n",
       "      <th>0</th>\n",
       "      <td>#OficinaDeEnvigado #TrabajoPorHoras #AbusoLabo...</td>\n",
       "      <td>explotacion_laboral</td>\n",
       "      <td>[{'value': '#AbusoLaboral', 'entity': 'denunci...</td>\n",
       "    </tr>\n",
       "    <tr>\n",
       "      <th>1</th>\n",
       "      <td>@MarianaLaActriz Oiga no la he visto cotizar e...</td>\n",
       "      <td>acoso_laboral</td>\n",
       "      <td>[{'value': 'acoso sexual', 'entity': 'denuncia...</td>\n",
       "    </tr>\n",
       "    <tr>\n",
       "      <th>2</th>\n",
       "      <td>La Asociación de Rectores Universitarios exigi...</td>\n",
       "      <td>salario_precario</td>\n",
       "      <td>[{'value': 'ajuste del incremento salarial', '...</td>\n",
       "    </tr>\n",
       "    <tr>\n",
       "      <th>3</th>\n",
       "      <td>15).-Venezuela. Gobierno. Rusia. Presenta, en ...</td>\n",
       "      <td>salario_precario</td>\n",
       "      <td>[{'value': 'índice relativamente bajo de desem...</td>\n",
       "    </tr>\n",
       "    <tr>\n",
       "      <th>4</th>\n",
       "      <td>Después que Maduro bajó el salario mínimo de $...</td>\n",
       "      <td>salario_precario</td>\n",
       "      <td>[{'value': 'bajó el salario mínimo', 'entity':...</td>\n",
       "    </tr>\n",
       "  </tbody>\n",
       "</table>\n",
       "</div>"
      ],
      "text/plain": [
       "                                                text               intent  \\\n",
       "0  #OficinaDeEnvigado #TrabajoPorHoras #AbusoLabo...  explotacion_laboral   \n",
       "1  @MarianaLaActriz Oiga no la he visto cotizar e...        acoso_laboral   \n",
       "2  La Asociación de Rectores Universitarios exigi...     salario_precario   \n",
       "3  15).-Venezuela. Gobierno. Rusia. Presenta, en ...     salario_precario   \n",
       "4  Después que Maduro bajó el salario mínimo de $...     salario_precario   \n",
       "\n",
       "                                            entities  \n",
       "0  [{'value': '#AbusoLaboral', 'entity': 'denunci...  \n",
       "1  [{'value': 'acoso sexual', 'entity': 'denuncia...  \n",
       "2  [{'value': 'ajuste del incremento salarial', '...  \n",
       "3  [{'value': 'índice relativamente bajo de desem...  \n",
       "4  [{'value': 'bajó el salario mínimo', 'entity':...  "
      ]
     },
     "execution_count": 8,
     "metadata": {},
     "output_type": "execute_result"
    }
   ],
   "source": [
    "test_df.head()"
   ]
  },
  {
   "cell_type": "markdown",
   "metadata": {},
   "source": [
    "## 3. Preprocesamiento\n",
    "\n",
    "Empezamos por cargar el dataset y realizar un preprocesamiento básico de los textos. En este caso, se eliminan las menciones a usuarios, los enlaces, y los caracteres especiales. Además, se convierten los textos a minúsculas y se eliminan las stopwords."
   ]
  },
  {
   "cell_type": "code",
   "execution_count": 9,
   "metadata": {},
   "outputs": [
    {
     "data": {
      "text/html": [
       "<div>\n",
       "<style scoped>\n",
       "    .dataframe tbody tr th:only-of-type {\n",
       "        vertical-align: middle;\n",
       "    }\n",
       "\n",
       "    .dataframe tbody tr th {\n",
       "        vertical-align: top;\n",
       "    }\n",
       "\n",
       "    .dataframe thead th {\n",
       "        text-align: right;\n",
       "    }\n",
       "</style>\n",
       "<table border=\"1\" class=\"dataframe\">\n",
       "  <thead>\n",
       "    <tr style=\"text-align: right;\">\n",
       "      <th></th>\n",
       "      <th>text</th>\n",
       "      <th>intent</th>\n",
       "      <th>entities</th>\n",
       "      <th>text_pre</th>\n",
       "    </tr>\n",
       "  </thead>\n",
       "  <tbody>\n",
       "    <tr>\n",
       "      <th>0</th>\n",
       "      <td>ni siquiera decir \"palabras sucias\" te hace me...</td>\n",
       "      <td>abuso_autoridad</td>\n",
       "      <td>[{'value': 'mal jefe,', 'entity': 'denuncia'}]</td>\n",
       "      <td>siquiera decir palabras sucias hace menos prof...</td>\n",
       "    </tr>\n",
       "    <tr>\n",
       "      <th>1</th>\n",
       "      <td>un amigo de mi hermana le comentó, dudo mucho ...</td>\n",
       "      <td>salario_precario</td>\n",
       "      <td>[{'value': 'nos maltratan con el salario', 'en...</td>\n",
       "      <td>amigo hermana comentó dudo vuelva trabajar uni...</td>\n",
       "    </tr>\n",
       "    <tr>\n",
       "      <th>2</th>\n",
       "      <td>respecto a los salarios: todos merecemos un sa...</td>\n",
       "      <td>salario_precario</td>\n",
       "      <td>[{'value': 'salario que nos permita vivir dign...</td>\n",
       "      <td>respecto salarios merecemos salario permita vi...</td>\n",
       "    </tr>\n",
       "    <tr>\n",
       "      <th>3</th>\n",
       "      <td>@FOVISSSTEmx @fovissste Gracias por su atenció...</td>\n",
       "      <td>derechos_laborales</td>\n",
       "      <td>[{'value': 'no es un esquema que favorezca al ...</td>\n",
       "      <td>fovissstemx fovissste gracias atención desgrac...</td>\n",
       "    </tr>\n",
       "    <tr>\n",
       "      <th>4</th>\n",
       "      <td>docentes venezolanos, perciben salarios insufi...</td>\n",
       "      <td>salario_precario</td>\n",
       "      <td>[{'value': 'perciben salarios insuficientes', ...</td>\n",
       "      <td>docentes venezolanos perciben salarios insufic...</td>\n",
       "    </tr>\n",
       "  </tbody>\n",
       "</table>\n",
       "</div>"
      ],
      "text/plain": [
       "                                                text              intent  \\\n",
       "0  ni siquiera decir \"palabras sucias\" te hace me...     abuso_autoridad   \n",
       "1  un amigo de mi hermana le comentó, dudo mucho ...    salario_precario   \n",
       "2  respecto a los salarios: todos merecemos un sa...    salario_precario   \n",
       "3  @FOVISSSTEmx @fovissste Gracias por su atenció...  derechos_laborales   \n",
       "4  docentes venezolanos, perciben salarios insufi...    salario_precario   \n",
       "\n",
       "                                            entities  \\\n",
       "0     [{'value': 'mal jefe,', 'entity': 'denuncia'}]   \n",
       "1  [{'value': 'nos maltratan con el salario', 'en...   \n",
       "2  [{'value': 'salario que nos permita vivir dign...   \n",
       "3  [{'value': 'no es un esquema que favorezca al ...   \n",
       "4  [{'value': 'perciben salarios insuficientes', ...   \n",
       "\n",
       "                                            text_pre  \n",
       "0  siquiera decir palabras sucias hace menos prof...  \n",
       "1  amigo hermana comentó dudo vuelva trabajar uni...  \n",
       "2  respecto salarios merecemos salario permita vi...  \n",
       "3  fovissstemx fovissste gracias atención desgrac...  \n",
       "4  docentes venezolanos perciben salarios insufic...  "
      ]
     },
     "execution_count": 9,
     "metadata": {},
     "output_type": "execute_result"
    }
   ],
   "source": [
    "########## Preprocesamiento de texto ###############\n",
    "\n",
    "def preprocess_text(text):\n",
    "    # Eliminando caracteres especiales y números\n",
    "    text = re.sub(r'[^a-zA-ZáéíóúÁÉÍÓÚ\\s]', '', text, re.I|re.A)\n",
    "    # Convertir a minúsculas\n",
    "    text = text.lower()\n",
    "    # eliminando stopwords\n",
    "    stop_words = set(stopwords.words('spanish'))\n",
    "    word_tokens = word_tokenize(text)\n",
    "    text = [i for i in word_tokens if not i in stop_words]\n",
    "    text = ' '.join(text)\n",
    "    return text\n",
    "\n",
    "# Aplicando la función de preprocesamiento a los datos de entrenamiento y prueba\n",
    "\n",
    "train_df['text_pre'] = train_df['text'].apply(preprocess_text)\n",
    "\n",
    "test_df['text_pre'] = test_df['text'].apply(preprocess_text)\n",
    "\n",
    "train_df.head()"
   ]
  },
  {
   "cell_type": "markdown",
   "metadata": {},
   "source": [
    "## 4. Modelo de Clasificación de Texto\n",
    "\n",
    "Una vez que hemos preprocesado los textos, podemos aplicar un modelo de clasificación no supervisado para agruparlos en categorías o clusters. En este caso, utilizaremos el algoritmo de clustering KMeans para agrupar los textos en clusters. AUnque primero debemos convertir los textos en vectores numéricos utilizando embeddings de palabras.\n"
   ]
  },
  {
   "cell_type": "code",
   "execution_count": 10,
   "metadata": {},
   "outputs": [
    {
     "data": {
      "text/html": [
       "<div>\n",
       "<style scoped>\n",
       "    .dataframe tbody tr th:only-of-type {\n",
       "        vertical-align: middle;\n",
       "    }\n",
       "\n",
       "    .dataframe tbody tr th {\n",
       "        vertical-align: top;\n",
       "    }\n",
       "\n",
       "    .dataframe thead th {\n",
       "        text-align: right;\n",
       "    }\n",
       "</style>\n",
       "<table border=\"1\" class=\"dataframe\">\n",
       "  <thead>\n",
       "    <tr style=\"text-align: right;\">\n",
       "      <th></th>\n",
       "      <th>text</th>\n",
       "      <th>intent</th>\n",
       "      <th>entities</th>\n",
       "      <th>text_pre</th>\n",
       "      <th>text_tokens</th>\n",
       "    </tr>\n",
       "  </thead>\n",
       "  <tbody>\n",
       "    <tr>\n",
       "      <th>0</th>\n",
       "      <td>ni siquiera decir \"palabras sucias\" te hace me...</td>\n",
       "      <td>abuso_autoridad</td>\n",
       "      <td>[{'value': 'mal jefe,', 'entity': 'denuncia'}]</td>\n",
       "      <td>siquiera decir palabras sucias hace menos prof...</td>\n",
       "      <td>[siquiera, decir, palabras, sucias, hace, meno...</td>\n",
       "    </tr>\n",
       "    <tr>\n",
       "      <th>1</th>\n",
       "      <td>un amigo de mi hermana le comentó, dudo mucho ...</td>\n",
       "      <td>salario_precario</td>\n",
       "      <td>[{'value': 'nos maltratan con el salario', 'en...</td>\n",
       "      <td>amigo hermana comentó dudo vuelva trabajar uni...</td>\n",
       "      <td>[amigo, hermana, comentó, dudo, vuelva, trabaj...</td>\n",
       "    </tr>\n",
       "    <tr>\n",
       "      <th>2</th>\n",
       "      <td>respecto a los salarios: todos merecemos un sa...</td>\n",
       "      <td>salario_precario</td>\n",
       "      <td>[{'value': 'salario que nos permita vivir dign...</td>\n",
       "      <td>respecto salarios merecemos salario permita vi...</td>\n",
       "      <td>[respecto, salarios, merecemos, salario, permi...</td>\n",
       "    </tr>\n",
       "    <tr>\n",
       "      <th>3</th>\n",
       "      <td>@FOVISSSTEmx @fovissste Gracias por su atenció...</td>\n",
       "      <td>derechos_laborales</td>\n",
       "      <td>[{'value': 'no es un esquema que favorezca al ...</td>\n",
       "      <td>fovissstemx fovissste gracias atención desgrac...</td>\n",
       "      <td>[fovissstemx, fovissste, gracias, atención, de...</td>\n",
       "    </tr>\n",
       "    <tr>\n",
       "      <th>4</th>\n",
       "      <td>docentes venezolanos, perciben salarios insufi...</td>\n",
       "      <td>salario_precario</td>\n",
       "      <td>[{'value': 'perciben salarios insuficientes', ...</td>\n",
       "      <td>docentes venezolanos perciben salarios insufic...</td>\n",
       "      <td>[docentes, venezolanos, perciben, salarios, in...</td>\n",
       "    </tr>\n",
       "  </tbody>\n",
       "</table>\n",
       "</div>"
      ],
      "text/plain": [
       "                                                text              intent  \\\n",
       "0  ni siquiera decir \"palabras sucias\" te hace me...     abuso_autoridad   \n",
       "1  un amigo de mi hermana le comentó, dudo mucho ...    salario_precario   \n",
       "2  respecto a los salarios: todos merecemos un sa...    salario_precario   \n",
       "3  @FOVISSSTEmx @fovissste Gracias por su atenció...  derechos_laborales   \n",
       "4  docentes venezolanos, perciben salarios insufi...    salario_precario   \n",
       "\n",
       "                                            entities  \\\n",
       "0     [{'value': 'mal jefe,', 'entity': 'denuncia'}]   \n",
       "1  [{'value': 'nos maltratan con el salario', 'en...   \n",
       "2  [{'value': 'salario que nos permita vivir dign...   \n",
       "3  [{'value': 'no es un esquema que favorezca al ...   \n",
       "4  [{'value': 'perciben salarios insuficientes', ...   \n",
       "\n",
       "                                            text_pre  \\\n",
       "0  siquiera decir palabras sucias hace menos prof...   \n",
       "1  amigo hermana comentó dudo vuelva trabajar uni...   \n",
       "2  respecto salarios merecemos salario permita vi...   \n",
       "3  fovissstemx fovissste gracias atención desgrac...   \n",
       "4  docentes venezolanos perciben salarios insufic...   \n",
       "\n",
       "                                         text_tokens  \n",
       "0  [siquiera, decir, palabras, sucias, hace, meno...  \n",
       "1  [amigo, hermana, comentó, dudo, vuelva, trabaj...  \n",
       "2  [respecto, salarios, merecemos, salario, permi...  \n",
       "3  [fovissstemx, fovissste, gracias, atención, de...  \n",
       "4  [docentes, venezolanos, perciben, salarios, in...  "
      ]
     },
     "execution_count": 10,
     "metadata": {},
     "output_type": "execute_result"
    }
   ],
   "source": [
    "################## Entrenamiento de Word2Vec ####################\n",
    "\n",
    "# Tokenizando el texto\n",
    "\n",
    "train_df['text_tokens'] = train_df['text_pre'].apply(lambda x: x.split())\n",
    "test_df['text_tokens'] = test_df['text_pre'].apply(lambda x: x.split())\n",
    "\n",
    "train_df.head()"
   ]
  },
  {
   "cell_type": "code",
   "execution_count": 11,
   "metadata": {},
   "outputs": [],
   "source": [
    "# Entrenando el modelo Doc2Vec\n",
    "\n",
    "documents = [TaggedDocument(doc, [i]) for i, doc in enumerate(train_df['text_tokens'])]\n",
    "\n",
    "# Definiendo el modelo Doc2Vec\n",
    "\n",
    "model = Doc2Vec(documents, vector_size=100, window=2, min_count=1, workers=4)\n",
    "\n",
    "# Guardando el modelo entrenado\n",
    "\n",
    "model.save(\"doc2vec.model\")\n"
   ]
  },
  {
   "cell_type": "code",
   "execution_count": 12,
   "metadata": {},
   "outputs": [
    {
     "data": {
      "text/plain": [
       "[('cámaras', 0.3283995985984802),\n",
       " ('ajusten', 0.3279161751270294),\n",
       " ('cubres', 0.29722967743873596),\n",
       " ('vida', 0.2968011796474457),\n",
       " ('legales', 0.2886211574077606),\n",
       " ('httpstcovfnartov', 0.28611084818840027),\n",
       " ('semanales', 0.2782209515571594),\n",
       " ('mierdisima', 0.2745617628097534),\n",
       " ('mala', 0.2745302617549896),\n",
       " ('crimínales', 0.27201777696609497)]"
      ]
     },
     "execution_count": 12,
     "metadata": {},
     "output_type": "execute_result"
    }
   ],
   "source": [
    "# Cargando el modelo entrenado\n",
    "\n",
    "model = Doc2Vec.load(\"doc2vec.model\")\n",
    "\n",
    "# Obteniendo el vector de una palabra\n",
    "\n",
    "model.wv['trabajo']\n",
    "\n",
    "# Obteniendo las palabras más similares a una palabra\n",
    "\n",
    "model.wv.most_similar('trabajo')\n"
   ]
  },
  {
   "cell_type": "code",
   "execution_count": 13,
   "metadata": {},
   "outputs": [
    {
     "data": {
      "text/plain": [
       "-0.046896175"
      ]
     },
     "execution_count": 13,
     "metadata": {},
     "output_type": "execute_result"
    }
   ],
   "source": [
    "# Obteniendo la similitud entre dos palabras\n",
    "\n",
    "model.wv.similarity('trabajo', 'empleo')\n"
   ]
  },
  {
   "cell_type": "code",
   "execution_count": 14,
   "metadata": {},
   "outputs": [
    {
     "data": {
      "text/plain": [
       "cluster\n",
       "4    59\n",
       "2    50\n",
       "3    34\n",
       "1    25\n",
       "0    16\n",
       "Name: count, dtype: int64"
      ]
     },
     "execution_count": 14,
     "metadata": {},
     "output_type": "execute_result"
    }
   ],
   "source": [
    "#### Hacemos un clustering de los tweets con KMeans\n",
    "\n",
    "from sklearn.cluster import KMeans\n",
    "\n",
    "# Obteniendo los vectores de los tweets\n",
    "\n",
    "vectors = [model.infer_vector(doc) for doc in train_df['text_tokens']]\n",
    "\n",
    "# Definiendo el modelo KMeans\n",
    "\n",
    "kmeans = KMeans(n_clusters=5, random_state=0)\n",
    "\n",
    "# Entrenando el modelo KMeans\n",
    "\n",
    "kmeans.fit(vectors)\n",
    "\n",
    "# Obteniendo las etiquetas de los clusters\n",
    "\n",
    "train_df['cluster'] = kmeans.labels_\n",
    "\n",
    "# Explorando los clusters\n",
    "\n",
    "train_df['cluster'].value_counts()\n",
    "\n"
   ]
  },
  {
   "cell_type": "code",
   "execution_count": 15,
   "metadata": {},
   "outputs": [
    {
     "data": {
      "text/plain": [
       "2                                                                                     respecto a los salarios: todos merecemos un salario que nos permita vivir dignamente (y sería mucho más bajo si los servicios públicos fueran realmente eficientes, y no tuviéramos que pagar escuela, salud, carro).\n",
       "17                                                                                                                                                                               @indefinidolp Estamos cojonudos con nuestras AAPP, el colmo la de Justicia, q ante el abuso laboral creado x ellas mismas…\n",
       "29                                                        @manyarz pero flaco ya vamos mas de un 40% de gobierno en que pais vivis? paso todo lo contrario. Recortaron la salud y la educacion. La seguridad no bajo para nada, el salario real bajo un 4%. El unico salario que subio fue el de Lacalle!!!\n",
       "38     @prcPeru @PedroCastilloTe Penal, civil, laboral nadie debe ser sometido a dos procesos por el mismo motivo, como todos estos politicos son funcionarios publicos, aun asi, la ley 27444 LPAD tambien lo prohibe. Ningun Estado del Mundo Ampara el Abuso del Derecho. Esto es una venganza politica.\n",
       "55                     @M_Kve @pguerrero82 @MasXulaKeUn8 @puriglesias_ @NuriaPuebla @Mercadona @alcampo Pero me vas a enseñar a qué 2 personas les quitan el puesto mujeres menos preparadas o vas a mandar mas artículos que denuncia una solicitud de trabajo? Necesito saber quienes son esos 2 hombres.\n",
       "71                   No ajusten al Pueblo trabajador. Es hora de ser firmes con los fuertes para que Argentina pueda crecer. Sanciones a empresarios especuladores, a medios de comunicación difusores de odio, reforma a la justicia.\\n\\n#LaCallePideJusticiaSocial #SoberaniaEIndependencia #Emancipacion\n",
       "74                                                                                                            es increíble la cantidad de \"vacantes\" para pasantes. las empresas aprovechan que son estudiantes universitarios y les pagan menos que el básico. así es como empieza la explotación laboral.\n",
       "85          @constant_hevia Además del matete nominal que tiene, confunde largo plazo con RBC todo el tiempo.  Dice, por ejemplo, que el salario real está \"bajo\", ¿en relación a qué? ¿cuál es el parámetro? La palabra productividad ni se asoma y me parece que hay lío de tendencia con ajuste cíclico.\n",
       "90                                                                                                                                                          #NoticiasDMX • Denuncia @yanez_arturo acoso laboral por parte del Ayuntamiento de #GómezPalacios para votar por Morena. https://t.co/djHuGJj6tr\n",
       "100                le gane la demanda a mi ex colegio. el despido fue injustificado. nunca más se limpiarán la boca con mi nombre. decir que porque fui capaz de visibilizar la mala gestión y hablar de frente defendiendo mis derechos y los de mis colegas me convierto en una persona oposicionista.pff\n",
       "Name: text, dtype: object"
      ]
     },
     "execution_count": 15,
     "metadata": {},
     "output_type": "execute_result"
    }
   ],
   "source": [
    "### Veamos los tweets de un cluster\n",
    "\n",
    "pd.set_option('display.max_colwidth', None)\n",
    "\n",
    "train_df[train_df['cluster'] == 0]['text'].head(10)"
   ]
  },
  {
   "cell_type": "code",
   "execution_count": 16,
   "metadata": {},
   "outputs": [
    {
     "name": "stdout",
     "output_type": "stream",
     "text": [
      "Cluster  0\n",
      "[('salario', 0.35008305311203003), ('laboral', 0.33739715814590454), ('frente', 0.32718369364738464), ('muchxs', 0.32293012738227844), ('x', 0.31767645478248596), ('hostigamient', 0.31544187664985657), ('sufrió', 0.3073960840702057), ('injusto', 0.29816365242004395), ('rúa', 0.29444608092308044), ('chavales', 0.2926410734653473)]\n",
      "\n",
      "\n",
      "\n",
      "Cluster  1\n",
      "[('nombre', 0.31469276547431946), ('sólo', 0.31390830874443054), ('salario', 0.3060857653617859), ('melón', 0.3047873377799988), ('negativas', 0.2958908975124359), ('viaje', 0.2945222854614258), ('comité', 0.28484484553337097), ('bajo', 0.28215500712394714), ('digno', 0.276289701461792), ('profesoras', 0.27282097935676575)]\n",
      "\n",
      "\n",
      "\n",
      "Cluster  2\n",
      "[('lugar', 0.3564763367176056), ('ética', 0.3377739191055298), ('httpstcovxbvhfkf', 0.3241082727909088), ('salarioigualcanastabásica', 0.32035863399505615), ('salario', 0.306164026260376), ('ao', 0.3057782053947449), ('laboral', 0.2999284565448761), ('injusto', 0.29632213711738586), ('revista', 0.2950039505958557), ('cobra', 0.2870977818965912)]\n",
      "\n",
      "\n",
      "\n",
      "Cluster  3\n",
      "[('salario', 0.42220717668533325), ('volando', 0.35672125220298767), ('revista', 0.3482937216758728), ('podremos', 0.3363167345523834), ('hostigamient', 0.3009123206138611), ('prohibidoolvidar', 0.2925083339214325), ('pueblo', 0.2872895300388336), ('educación', 0.2749073803424835), ('players', 0.2722826600074768), ('injusto', 0.2677917182445526)]\n",
      "\n",
      "\n",
      "\n",
      "Cluster  4\n",
      "[('subió', 0.3605365753173828), ('buscaba', 0.34209418296813965), ('prohibidoolvidar', 0.3231264054775238), ('hacer', 0.3160826861858368), ('vergenza', 0.3091133236885071), ('salario', 0.30533164739608765), ('trabajo', 0.30517929792404175), ('liberenalxstrabajadorxspresxs', 0.30031970143318176), ('podremos', 0.29460927844047546), ('hacen', 0.2899918258190155)]\n",
      "\n",
      "\n",
      "\n"
     ]
    }
   ],
   "source": [
    "### Veamos el centroide de cada cluster\n",
    "\n",
    "for i in range(5):\n",
    "    print(\"Cluster \", i)\n",
    "    print(model.wv.most_similar(positive=[kmeans.cluster_centers_[i]], topn=10))\n",
    "    print(\"\\n\\n\")"
   ]
  }
 ],
 "metadata": {
  "kernelspec": {
   "display_name": "veNLP",
   "language": "python",
   "name": "python3"
  },
  "language_info": {
   "codemirror_mode": {
    "name": "ipython",
    "version": 3
   },
   "file_extension": ".py",
   "mimetype": "text/x-python",
   "name": "python",
   "nbconvert_exporter": "python",
   "pygments_lexer": "ipython3",
   "version": "3.10.15"
  }
 },
 "nbformat": 4,
 "nbformat_minor": 2
}
